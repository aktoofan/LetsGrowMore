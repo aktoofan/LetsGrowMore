{
 "cells": [
  {
   "cell_type": "code",
   "execution_count": 1,
   "id": "05e8c6d7",
   "metadata": {},
   "outputs": [],
   "source": [
    "import numpy as np\n",
    "import pandas as pd\n",
    "import tensorflow as tf\n",
    "import matplotlib.pyplot as plt\n",
    "import sklearn\n",
    "from sklearn.preprocessing import MinMaxScaler\n",
    "import matplotlib.pyplot as plt"
   ]
  },
  {
   "cell_type": "code",
   "execution_count": 2,
   "id": "598af66d",
   "metadata": {},
   "outputs": [],
   "source": [
    "data = pd.read_csv('tata.csv')"
   ]
  },
  {
   "cell_type": "code",
   "execution_count": 4,
   "id": "f1f69384",
   "metadata": {},
   "outputs": [
    {
     "data": {
      "text/plain": [
       "array([[234.05],\n",
       "       [234.55],\n",
       "       [240.  ],\n",
       "       ...,\n",
       "       [121.8 ],\n",
       "       [120.3 ],\n",
       "       [122.1 ]])"
      ]
     },
     "execution_count": 4,
     "metadata": {},
     "output_type": "execute_result"
    }
   ],
   "source": [
    "training_set = data.iloc[:, 1: 2].values\n",
    "training_set"
   ]
  },
  {
   "cell_type": "code",
   "execution_count": 5,
   "id": "6201f928",
   "metadata": {},
   "outputs": [
    {
     "data": {
      "text/html": [
       "<div>\n",
       "<style scoped>\n",
       "    .dataframe tbody tr th:only-of-type {\n",
       "        vertical-align: middle;\n",
       "    }\n",
       "\n",
       "    .dataframe tbody tr th {\n",
       "        vertical-align: top;\n",
       "    }\n",
       "\n",
       "    .dataframe thead th {\n",
       "        text-align: right;\n",
       "    }\n",
       "</style>\n",
       "<table border=\"1\" class=\"dataframe\">\n",
       "  <thead>\n",
       "    <tr style=\"text-align: right;\">\n",
       "      <th></th>\n",
       "      <th>Date</th>\n",
       "      <th>Open</th>\n",
       "      <th>High</th>\n",
       "      <th>Low</th>\n",
       "      <th>Last</th>\n",
       "      <th>Close</th>\n",
       "      <th>Total Trade Quantity</th>\n",
       "      <th>Turnover (Lacs)</th>\n",
       "    </tr>\n",
       "  </thead>\n",
       "  <tbody>\n",
       "    <tr>\n",
       "      <th>0</th>\n",
       "      <td>2018-09-28</td>\n",
       "      <td>234.05</td>\n",
       "      <td>235.95</td>\n",
       "      <td>230.2</td>\n",
       "      <td>233.50</td>\n",
       "      <td>233.75</td>\n",
       "      <td>3069914</td>\n",
       "      <td>7162.35</td>\n",
       "    </tr>\n",
       "    <tr>\n",
       "      <th>1</th>\n",
       "      <td>2018-09-27</td>\n",
       "      <td>234.55</td>\n",
       "      <td>236.80</td>\n",
       "      <td>231.1</td>\n",
       "      <td>233.80</td>\n",
       "      <td>233.25</td>\n",
       "      <td>5082859</td>\n",
       "      <td>11859.95</td>\n",
       "    </tr>\n",
       "    <tr>\n",
       "      <th>2</th>\n",
       "      <td>2018-09-26</td>\n",
       "      <td>240.00</td>\n",
       "      <td>240.00</td>\n",
       "      <td>232.5</td>\n",
       "      <td>235.00</td>\n",
       "      <td>234.25</td>\n",
       "      <td>2240909</td>\n",
       "      <td>5248.60</td>\n",
       "    </tr>\n",
       "    <tr>\n",
       "      <th>3</th>\n",
       "      <td>2018-09-25</td>\n",
       "      <td>233.30</td>\n",
       "      <td>236.75</td>\n",
       "      <td>232.0</td>\n",
       "      <td>236.25</td>\n",
       "      <td>236.10</td>\n",
       "      <td>2349368</td>\n",
       "      <td>5503.90</td>\n",
       "    </tr>\n",
       "  </tbody>\n",
       "</table>\n",
       "</div>"
      ],
      "text/plain": [
       "         Date    Open    High    Low    Last   Close  Total Trade Quantity  \\\n",
       "0  2018-09-28  234.05  235.95  230.2  233.50  233.75               3069914   \n",
       "1  2018-09-27  234.55  236.80  231.1  233.80  233.25               5082859   \n",
       "2  2018-09-26  240.00  240.00  232.5  235.00  234.25               2240909   \n",
       "3  2018-09-25  233.30  236.75  232.0  236.25  236.10               2349368   \n",
       "\n",
       "   Turnover (Lacs)  \n",
       "0          7162.35  \n",
       "1         11859.95  \n",
       "2          5248.60  \n",
       "3          5503.90  "
      ]
     },
     "execution_count": 5,
     "metadata": {},
     "output_type": "execute_result"
    }
   ],
   "source": [
    "data.head(4)"
   ]
  },
  {
   "cell_type": "code",
   "execution_count": 6,
   "id": "390dd419",
   "metadata": {},
   "outputs": [],
   "source": [
    "sc = MinMaxScaler(feature_range = (0, 1))\n",
    "training_set_scaled = sc.fit_transform(training_set)"
   ]
  },
  {
   "cell_type": "code",
   "execution_count": 7,
   "id": "2d48c7cb",
   "metadata": {},
   "outputs": [],
   "source": [
    "x_train = []\n",
    "y_train = []\n",
    "for i in range(60, 2035):\n",
    "    x_train.append(training_set_scaled[i - 60: i, 0])\n",
    "    y_train.append(training_set_scaled[i, 0])\n",
    "x_train, y_train = np.array(x_train), np.array(y_train)\n",
    "\n",
    "x_train = np.reshape(x_train, (x_train.shape[0], x_train.shape[1], 1))"
   ]
  },
  {
   "cell_type": "code",
   "execution_count": 8,
   "id": "f7cada44",
   "metadata": {},
   "outputs": [],
   "source": [
    "from keras.models import Sequential\n",
    "from keras.layers import Dense\n",
    "from keras.layers import LSTM\n",
    "from keras.layers import Dropout"
   ]
  },
  {
   "cell_type": "code",
   "execution_count": 9,
   "id": "a92a0a71",
   "metadata": {},
   "outputs": [
    {
     "name": "stdout",
     "output_type": "stream",
     "text": [
      "Epoch 1/100\n",
      "62/62 [==============================] - 22s 133ms/step - loss: 0.0103\n",
      "Epoch 2/100\n",
      "62/62 [==============================] - 8s 131ms/step - loss: 0.0032\n",
      "Epoch 3/100\n",
      "62/62 [==============================] - 8s 132ms/step - loss: 0.0029\n",
      "Epoch 4/100\n",
      "62/62 [==============================] - 8s 133ms/step - loss: 0.0025\n",
      "Epoch 5/100\n",
      "62/62 [==============================] - 8s 132ms/step - loss: 0.0025\n",
      "Epoch 6/100\n",
      "62/62 [==============================] - 8s 133ms/step - loss: 0.0022\n",
      "Epoch 7/100\n",
      "62/62 [==============================] - 8s 133ms/step - loss: 0.0023\n",
      "Epoch 8/100\n",
      "62/62 [==============================] - 8s 133ms/step - loss: 0.0023\n",
      "Epoch 9/100\n",
      "62/62 [==============================] - 8s 133ms/step - loss: 0.0024\n",
      "Epoch 10/100\n",
      "62/62 [==============================] - 8s 133ms/step - loss: 0.0020\n",
      "Epoch 11/100\n",
      "62/62 [==============================] - 8s 133ms/step - loss: 0.0017\n",
      "Epoch 12/100\n",
      "62/62 [==============================] - 8s 134ms/step - loss: 0.0018\n",
      "Epoch 13/100\n",
      "62/62 [==============================] - 8s 134ms/step - loss: 0.0018\n",
      "Epoch 14/100\n",
      "62/62 [==============================] - 8s 133ms/step - loss: 0.0016\n",
      "Epoch 15/100\n",
      "62/62 [==============================] - 8s 133ms/step - loss: 0.0017\n",
      "Epoch 16/100\n",
      "62/62 [==============================] - 8s 133ms/step - loss: 0.0018\n",
      "Epoch 17/100\n",
      "62/62 [==============================] - 8s 133ms/step - loss: 0.0014\n",
      "Epoch 18/100\n",
      "62/62 [==============================] - 8s 133ms/step - loss: 0.0013\n",
      "Epoch 19/100\n",
      "62/62 [==============================] - 8s 133ms/step - loss: 0.0014\n",
      "Epoch 20/100\n",
      "62/62 [==============================] - 8s 133ms/step - loss: 0.0015\n",
      "Epoch 21/100\n",
      "62/62 [==============================] - 8s 133ms/step - loss: 0.0014\n",
      "Epoch 22/100\n",
      "62/62 [==============================] - 8s 133ms/step - loss: 0.0014\n",
      "Epoch 23/100\n",
      "62/62 [==============================] - 8s 133ms/step - loss: 0.0015\n",
      "Epoch 24/100\n",
      "62/62 [==============================] - 8s 133ms/step - loss: 0.0015\n",
      "Epoch 25/100\n",
      "62/62 [==============================] - 8s 133ms/step - loss: 0.0012\n",
      "Epoch 26/100\n",
      "62/62 [==============================] - 8s 133ms/step - loss: 0.0013\n",
      "Epoch 27/100\n",
      "62/62 [==============================] - 8s 133ms/step - loss: 0.0012\n",
      "Epoch 28/100\n",
      "62/62 [==============================] - 8s 134ms/step - loss: 0.0012\n",
      "Epoch 29/100\n",
      "62/62 [==============================] - 8s 133ms/step - loss: 0.0012\n",
      "Epoch 30/100\n",
      "62/62 [==============================] - 8s 133ms/step - loss: 0.0011\n",
      "Epoch 31/100\n",
      "62/62 [==============================] - 8s 133ms/step - loss: 0.0012\n",
      "Epoch 32/100\n",
      "62/62 [==============================] - 8s 133ms/step - loss: 0.0011\n",
      "Epoch 33/100\n",
      "62/62 [==============================] - 8s 133ms/step - loss: 0.0011\n",
      "Epoch 34/100\n",
      "62/62 [==============================] - 8s 133ms/step - loss: 0.0010\n",
      "Epoch 35/100\n",
      "62/62 [==============================] - 8s 133ms/step - loss: 0.0011\n",
      "Epoch 36/100\n",
      "62/62 [==============================] - 8s 133ms/step - loss: 9.4085e-04\n",
      "Epoch 37/100\n",
      "62/62 [==============================] - 8s 133ms/step - loss: 0.0011\n",
      "Epoch 38/100\n",
      "62/62 [==============================] - 8s 133ms/step - loss: 8.1101e-04\n",
      "Epoch 39/100\n",
      "62/62 [==============================] - 8s 133ms/step - loss: 9.5999e-04\n",
      "Epoch 40/100\n",
      "62/62 [==============================] - 8s 133ms/step - loss: 9.2242e-04\n",
      "Epoch 41/100\n",
      "62/62 [==============================] - 8s 133ms/step - loss: 9.3419e-04\n",
      "Epoch 42/100\n",
      "62/62 [==============================] - 8s 133ms/step - loss: 9.1792e-04\n",
      "Epoch 43/100\n",
      "62/62 [==============================] - 8s 133ms/step - loss: 8.8244e-04\n",
      "Epoch 44/100\n",
      "62/62 [==============================] - 8s 133ms/step - loss: 8.7179e-04\n",
      "Epoch 45/100\n",
      "62/62 [==============================] - 8s 133ms/step - loss: 0.0010\n",
      "Epoch 46/100\n",
      "62/62 [==============================] - 8s 132ms/step - loss: 9.0418e-04\n",
      "Epoch 47/100\n",
      "62/62 [==============================] - 8s 132ms/step - loss: 9.9850e-04\n",
      "Epoch 48/100\n",
      "62/62 [==============================] - 8s 133ms/step - loss: 0.0011\n",
      "Epoch 49/100\n",
      "62/62 [==============================] - 8s 132ms/step - loss: 7.8890e-04\n",
      "Epoch 50/100\n",
      "62/62 [==============================] - 8s 133ms/step - loss: 8.1430e-04\n",
      "Epoch 51/100\n",
      "62/62 [==============================] - 8s 133ms/step - loss: 8.6436e-04\n",
      "Epoch 52/100\n",
      "62/62 [==============================] - 8s 133ms/step - loss: 9.1319e-04\n",
      "Epoch 53/100\n",
      "62/62 [==============================] - 8s 133ms/step - loss: 8.2525e-04\n",
      "Epoch 54/100\n",
      "62/62 [==============================] - 8s 132ms/step - loss: 7.9963e-04\n",
      "Epoch 55/100\n",
      "62/62 [==============================] - 8s 133ms/step - loss: 8.2411e-04\n",
      "Epoch 56/100\n",
      "62/62 [==============================] - 8s 133ms/step - loss: 8.4339e-04\n",
      "Epoch 57/100\n",
      "62/62 [==============================] - 8s 133ms/step - loss: 8.1362e-04\n",
      "Epoch 58/100\n",
      "62/62 [==============================] - 8s 132ms/step - loss: 8.1088e-04\n",
      "Epoch 59/100\n",
      "62/62 [==============================] - 8s 133ms/step - loss: 7.9165e-04\n",
      "Epoch 60/100\n",
      "62/62 [==============================] - 8s 132ms/step - loss: 7.8310e-04\n",
      "Epoch 61/100\n",
      "62/62 [==============================] - 8s 133ms/step - loss: 7.7380e-04\n",
      "Epoch 62/100\n",
      "62/62 [==============================] - 8s 133ms/step - loss: 7.3542e-04\n",
      "Epoch 63/100\n",
      "62/62 [==============================] - 8s 133ms/step - loss: 8.1358e-04\n",
      "Epoch 64/100\n",
      "62/62 [==============================] - 8s 133ms/step - loss: 6.8636e-04\n",
      "Epoch 65/100\n",
      "62/62 [==============================] - 8s 133ms/step - loss: 6.3073e-04\n",
      "Epoch 66/100\n",
      "62/62 [==============================] - 8s 133ms/step - loss: 8.0337e-04\n",
      "Epoch 67/100\n",
      "62/62 [==============================] - 8s 133ms/step - loss: 6.9767e-04\n",
      "Epoch 68/100\n",
      "62/62 [==============================] - 8s 133ms/step - loss: 7.0231e-04\n",
      "Epoch 69/100\n",
      "62/62 [==============================] - 8s 133ms/step - loss: 7.3786e-04\n",
      "Epoch 70/100\n",
      "62/62 [==============================] - 8s 133ms/step - loss: 6.4730e-04\n",
      "Epoch 71/100\n",
      "62/62 [==============================] - 8s 133ms/step - loss: 6.5963e-04\n",
      "Epoch 72/100\n",
      "62/62 [==============================] - 8s 132ms/step - loss: 6.9434e-04\n",
      "Epoch 73/100\n",
      "62/62 [==============================] - 8s 132ms/step - loss: 7.9313e-04\n",
      "Epoch 74/100\n",
      "62/62 [==============================] - 8s 132ms/step - loss: 6.2770e-04\n",
      "Epoch 75/100\n",
      "62/62 [==============================] - 8s 132ms/step - loss: 6.9291e-04\n",
      "Epoch 76/100\n",
      "62/62 [==============================] - 8s 132ms/step - loss: 7.3149e-04\n",
      "Epoch 77/100\n",
      "62/62 [==============================] - 8s 132ms/step - loss: 6.7528e-04\n",
      "Epoch 78/100\n",
      "62/62 [==============================] - 8s 132ms/step - loss: 7.9492e-04\n",
      "Epoch 79/100\n",
      "62/62 [==============================] - 8s 132ms/step - loss: 7.1054e-04\n",
      "Epoch 80/100\n",
      "62/62 [==============================] - 8s 132ms/step - loss: 6.5232e-04\n",
      "Epoch 81/100\n",
      "62/62 [==============================] - 8s 133ms/step - loss: 6.2962e-04\n",
      "Epoch 82/100\n",
      "62/62 [==============================] - 8s 133ms/step - loss: 7.4765e-04\n",
      "Epoch 83/100\n",
      "62/62 [==============================] - 8s 131ms/step - loss: 7.5825e-04\n",
      "Epoch 84/100\n",
      "62/62 [==============================] - 8s 132ms/step - loss: 5.6617e-04\n",
      "Epoch 85/100\n",
      "62/62 [==============================] - 8s 132ms/step - loss: 7.4108e-04\n",
      "Epoch 86/100\n",
      "62/62 [==============================] - 8s 132ms/step - loss: 6.1510e-04\n",
      "Epoch 87/100\n",
      "62/62 [==============================] - 8s 132ms/step - loss: 5.9398e-04\n",
      "Epoch 88/100\n",
      "62/62 [==============================] - 8s 132ms/step - loss: 5.5999e-04\n",
      "Epoch 89/100\n",
      "62/62 [==============================] - 8s 132ms/step - loss: 5.8343e-04\n",
      "Epoch 90/100\n",
      "62/62 [==============================] - 8s 132ms/step - loss: 6.2085e-04\n",
      "Epoch 91/100\n",
      "62/62 [==============================] - 8s 132ms/step - loss: 5.9541e-04\n",
      "Epoch 92/100\n",
      "62/62 [==============================] - 8s 132ms/step - loss: 7.3433e-04\n",
      "Epoch 93/100\n",
      "62/62 [==============================] - 8s 132ms/step - loss: 6.9720e-04\n",
      "Epoch 94/100\n",
      "62/62 [==============================] - 8s 132ms/step - loss: 6.1617e-04\n",
      "Epoch 95/100\n",
      "62/62 [==============================] - 8s 132ms/step - loss: 7.2045e-04\n",
      "Epoch 96/100\n",
      "62/62 [==============================] - 8s 133ms/step - loss: 5.8694e-04\n",
      "Epoch 97/100\n"
     ]
    },
    {
     "name": "stdout",
     "output_type": "stream",
     "text": [
      "62/62 [==============================] - 8s 133ms/step - loss: 6.1299e-04\n",
      "Epoch 98/100\n",
      "62/62 [==============================] - 8s 133ms/step - loss: 6.7552e-04\n",
      "Epoch 99/100\n",
      "62/62 [==============================] - 8s 132ms/step - loss: 6.4414e-04\n",
      "Epoch 100/100\n",
      "62/62 [==============================] - 8s 133ms/step - loss: 7.1993e-04\n"
     ]
    },
    {
     "data": {
      "text/plain": [
       "<keras.callbacks.History at 0x1ca1dc46a10>"
      ]
     },
     "execution_count": 9,
     "metadata": {},
     "output_type": "execute_result"
    }
   ],
   "source": [
    "regressor = Sequential()\n",
    "regressor.add(LSTM(units = 50, return_sequences = True, input_shape = (x_train.shape[1], 1)))\n",
    "regressor.add(Dropout(0.2))\n",
    "\n",
    "regressor.add(LSTM(units = 50, return_sequences = True))\n",
    "regressor.add(Dropout(0.2))\n",
    "\n",
    "regressor.add(LSTM(units = 50, return_sequences = True))\n",
    "regressor.add(Dropout(0.2))\n",
    "\n",
    "regressor.add(LSTM(units = 50))\n",
    "regressor.add(Dropout(0.2))\n",
    "\n",
    "regressor.add(Dense(units = 1))\n",
    "\n",
    "regressor.compile(optimizer = 'adam', loss = 'mean_squared_error')\n",
    "\n",
    "regressor.fit(x_train, y_train, epochs = 100, batch_size = 32)"
   ]
  },
  {
   "cell_type": "code",
   "execution_count": 11,
   "id": "65a8f6e0",
   "metadata": {},
   "outputs": [],
   "source": [
    "data_test = pd.read_csv('tata.csv')\n",
    "real_stock_price = data_test.iloc[:, 1:2].values"
   ]
  },
  {
   "cell_type": "code",
   "execution_count": 12,
   "id": "edc17127",
   "metadata": {},
   "outputs": [
    {
     "name": "stderr",
     "output_type": "stream",
     "text": [
      "C:\\Users\\Arvind Kumawat\\AppData\\Local\\Temp\\ipykernel_21088\\3439170556.py:2: FutureWarning: The behavior of `series[i:j]` with an integer-dtype index is deprecated. In a future version, this will be treated as *label-based* indexing, consistent with e.g. `series[i]` lookups. To retain the old behavior, use `series.iloc[i:j]`. To get the future behavior, use `series.loc[i:j]`.\n",
      "  inputs = data_total[len(data_total) - len(data_test) - 60:].values\n"
     ]
    }
   ],
   "source": [
    "data_total = pd.concat((data['Open'], data_test['Open']), axis = 0)\n",
    "inputs = data_total[len(data_total) - len(data_test) - 60:].values\n",
    "inputs = inputs.reshape(-1, 1)\n",
    "inputs = sc.transform(inputs)"
   ]
  },
  {
   "cell_type": "code",
   "execution_count": 13,
   "id": "8f476d63",
   "metadata": {},
   "outputs": [
    {
     "name": "stdout",
     "output_type": "stream",
     "text": [
      "1/1 [==============================] - 3s 3s/step\n"
     ]
    }
   ],
   "source": [
    "x_test = []\n",
    "for i in range(60, 76):\n",
    "    x_test.append(inputs[i - 60:i, 0])\n",
    "x_test = np.array(x_test)\n",
    "x_test = np.reshape(x_test, (x_test.shape[0], x_test.shape[1], 1))\n",
    "predicted_stock_price = regressor.predict(x_test)\n",
    "predicted_stock_price = sc.inverse_transform(predicted_stock_price)"
   ]
  },
  {
   "cell_type": "code",
   "execution_count": 14,
   "id": "58953bc4",
   "metadata": {},
   "outputs": [
    {
     "data": {
      "image/png": "[encoded data removed]",
      "text/plain": [
       "<Figure size 640x480 with 1 Axes>"
      ]
     },
     "metadata": {},
     "output_type": "display_data"
    }
   ],
   "source": [
    "plt.plot(real_stock_price, color = 'black', label = 'Tata Stock Price')\n",
    "plt.plot(predicted_stock_price, color = 'green', label = 'Predicted Tata Stock Price')\n",
    "plt.title('Tata Stock Price Prediction')\n",
    "plt.xlabel('Time')\n",
    "plt.ylabel = ('Tata Stock Price')\n",
    "plt.legend()\n",
    "plt.show()"
   ]
  },
  {
   "cell_type": "code",
   "execution_count": null,
   "id": "9ffc17f6",
   "metadata": {},
   "outputs": [],
   "source": []
  }
 ],
 "metadata": {
  "kernelspec": {
   "display_name": "Python 3 (ipykernel)",
   "language": "python",
   "name": "python3"
  },
  "language_info": {
   "codemirror_mode": {
    "name": "ipython",
    "version": 3
   },
   "file_extension": ".py",
   "mimetype": "text/x-python",
   "name": "python",
   "nbconvert_exporter": "python",
   "pygments_lexer": "ipython3",
   "version": "3.11.1"
  }
 },
 "nbformat": 4,
 "nbformat_minor": 5
}
